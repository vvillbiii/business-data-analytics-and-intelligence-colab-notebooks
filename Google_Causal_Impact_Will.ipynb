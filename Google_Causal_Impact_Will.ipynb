{
  "nbformat": 4,
  "nbformat_minor": 0,
  "metadata": {
    "colab": {
      "provenance": [],
      "authorship_tag": "ABX9TyNPejcTjph0ygsNSV984y7v",
      "include_colab_link": true
    },
    "kernelspec": {
      "name": "python3",
      "display_name": "Python 3"
    },
    "language_info": {
      "name": "python"
    }
  },
  "cells": [
    {
      "cell_type": "markdown",
      "metadata": {
        "id": "view-in-github",
        "colab_type": "text"
      },
      "source": [
        "<a href=\"https://colab.research.google.com/github/vvillbiii/business-data-analytics-and-intelligence-colab-notebooks/blob/main/Google_Causal_Impact_Will.ipynb\" target=\"_parent\"><img src=\"https://colab.research.google.com/assets/colab-badge.svg\" alt=\"Open In Colab\"/></a>"
      ]
    },
    {
      "cell_type": "markdown",
      "source": [
        "## Libraries and Dates"
      ],
      "metadata": {
        "id": "-q9uKJwJVJnV"
      }
    },
    {
      "cell_type": "code",
      "execution_count": null,
      "metadata": {
        "id": "EROxZfKuVE1V"
      },
      "outputs": [],
      "source": [
        "#install libraries\n",
        "!pip install yfinance\n",
        "!pip install tfcausalimpact"
      ]
    },
    {
      "cell_type": "code",
      "source": [
        "# import libraries \n",
        "import yfinance as yf\n",
        "from causalimpact import CausalImpact\n",
        "import pandas as pd\n",
        "import seaborn as sns\n",
        "import matplotlib.pyplot as plt"
      ],
      "metadata": {
        "id": "SEfM4D4oV06B"
      },
      "execution_count": null,
      "outputs": []
    },
    {
      "cell_type": "code",
      "source": [
        "# dates\n",
        "training_start = \"2020-09-01\"\n",
        "training_end = \"2020-10-19\"\n",
        "treatment_start = \"2020-10-20\"\n",
        "treatment_end = \"2020-10-23\"\n",
        "end_stock = \"2020-10-24\""
      ],
      "metadata": {
        "id": "5vVEc-MWWnU5"
      },
      "execution_count": null,
      "outputs": []
    },
    {
      "cell_type": "markdown",
      "source": [
        "# loading financial data "
      ],
      "metadata": {
        "id": "tk_u8LuZXP-W"
      }
    },
    {
      "cell_type": "code",
      "source": [
        "#Bitcoin\n",
        "y = ['BTC-USD']\n",
        "y = yf.download(tickers= y, \n",
        "                start= training_start, \n",
        "                end=end_stock, \n",
        "                interval='1d')\n",
        "y = y['Adj Close'].rename(\"y\")\n",
        "y[:5]"
      ],
      "metadata": {
        "id": "MFnShLyNXIbM"
      },
      "execution_count": null,
      "outputs": []
    },
    {
      "cell_type": "code",
      "source": [
        "#Loading more stock data\n",
        "stocks = ['META', 'DIS', 'NVS', \"CRSP\", 'GOOG']\n",
        "X = yf.download(tickers=stocks, \n",
        "                start=training_start, \n",
        "                end=end_stock, \n",
        "                interval='1d')\n"
      ],
      "metadata": {
        "colab": {
          "base_uri": "https://localhost:8080/"
        },
        "id": "aS8CIepFYiwl",
        "outputId": "a43aeada-ff3e-46bd-938e-2264b0f92631"
      },
      "execution_count": null,
      "outputs": [
        {
          "output_type": "stream",
          "name": "stdout",
          "text": [
            "[*********************100%***********************]  5 of 5 completed\n"
          ]
        }
      ]
    },
    {
      "cell_type": "markdown",
      "source": [
        "## Preparing data"
      ],
      "metadata": {
        "id": "x2Nhv0fzZ_tO"
      }
    },
    {
      "cell_type": "code",
      "source": [
        "#getting adjusted close\n",
        "X = X.iloc[:, :len(stocks)]\n",
        "X.head()"
      ],
      "metadata": {
        "colab": {
          "base_uri": "https://localhost:8080/",
          "height": 269
        },
        "id": "xYARZ1inaBkX",
        "outputId": "bcd01e2c-4e6c-4236-d917-f3483db62772"
      },
      "execution_count": null,
      "outputs": [
        {
          "output_type": "execute_result",
          "data": {
            "text/plain": [
              "                           Adj Close                                     \\\n",
              "                                CRSP         DIS       GOOG        META   \n",
              "Date                                                                      \n",
              "2020-09-01 00:00:00-04:00  93.419998  133.550003  83.035500  295.440002   \n",
              "2020-09-02 00:00:00-04:00  93.930000  135.389999  86.414001  302.500000   \n",
              "2020-09-03 00:00:00-04:00  85.690002  133.240005  82.092003  291.119995   \n",
              "2020-09-04 00:00:00-04:00  82.019997  131.990005  79.552002  282.730011   \n",
              "2020-09-08 00:00:00-04:00  81.459999  134.199997  76.619499  271.160004   \n",
              "\n",
              "                                      \n",
              "                                 NVS  \n",
              "Date                                  \n",
              "2020-09-01 00:00:00-04:00  80.162483  \n",
              "2020-09-02 00:00:00-04:00  81.998825  \n",
              "2020-09-03 00:00:00-04:00  80.374718  \n",
              "2020-09-04 00:00:00-04:00  79.987144  \n",
              "2020-09-08 00:00:00-04:00  80.586967  "
            ],
            "text/html": [
              "\n",
              "  <div id=\"df-83868e52-1581-4b70-ac82-b5b70e17de32\">\n",
              "    <div class=\"colab-df-container\">\n",
              "      <div>\n",
              "<style scoped>\n",
              "    .dataframe tbody tr th:only-of-type {\n",
              "        vertical-align: middle;\n",
              "    }\n",
              "\n",
              "    .dataframe tbody tr th {\n",
              "        vertical-align: top;\n",
              "    }\n",
              "\n",
              "    .dataframe thead tr th {\n",
              "        text-align: left;\n",
              "    }\n",
              "\n",
              "    .dataframe thead tr:last-of-type th {\n",
              "        text-align: right;\n",
              "    }\n",
              "</style>\n",
              "<table border=\"1\" class=\"dataframe\">\n",
              "  <thead>\n",
              "    <tr>\n",
              "      <th></th>\n",
              "      <th colspan=\"5\" halign=\"left\">Adj Close</th>\n",
              "    </tr>\n",
              "    <tr>\n",
              "      <th></th>\n",
              "      <th>CRSP</th>\n",
              "      <th>DIS</th>\n",
              "      <th>GOOG</th>\n",
              "      <th>META</th>\n",
              "      <th>NVS</th>\n",
              "    </tr>\n",
              "    <tr>\n",
              "      <th>Date</th>\n",
              "      <th></th>\n",
              "      <th></th>\n",
              "      <th></th>\n",
              "      <th></th>\n",
              "      <th></th>\n",
              "    </tr>\n",
              "  </thead>\n",
              "  <tbody>\n",
              "    <tr>\n",
              "      <th>2020-09-01 00:00:00-04:00</th>\n",
              "      <td>93.419998</td>\n",
              "      <td>133.550003</td>\n",
              "      <td>83.035500</td>\n",
              "      <td>295.440002</td>\n",
              "      <td>80.162483</td>\n",
              "    </tr>\n",
              "    <tr>\n",
              "      <th>2020-09-02 00:00:00-04:00</th>\n",
              "      <td>93.930000</td>\n",
              "      <td>135.389999</td>\n",
              "      <td>86.414001</td>\n",
              "      <td>302.500000</td>\n",
              "      <td>81.998825</td>\n",
              "    </tr>\n",
              "    <tr>\n",
              "      <th>2020-09-03 00:00:00-04:00</th>\n",
              "      <td>85.690002</td>\n",
              "      <td>133.240005</td>\n",
              "      <td>82.092003</td>\n",
              "      <td>291.119995</td>\n",
              "      <td>80.374718</td>\n",
              "    </tr>\n",
              "    <tr>\n",
              "      <th>2020-09-04 00:00:00-04:00</th>\n",
              "      <td>82.019997</td>\n",
              "      <td>131.990005</td>\n",
              "      <td>79.552002</td>\n",
              "      <td>282.730011</td>\n",
              "      <td>79.987144</td>\n",
              "    </tr>\n",
              "    <tr>\n",
              "      <th>2020-09-08 00:00:00-04:00</th>\n",
              "      <td>81.459999</td>\n",
              "      <td>134.199997</td>\n",
              "      <td>76.619499</td>\n",
              "      <td>271.160004</td>\n",
              "      <td>80.586967</td>\n",
              "    </tr>\n",
              "  </tbody>\n",
              "</table>\n",
              "</div>\n",
              "      <button class=\"colab-df-convert\" onclick=\"convertToInteractive('df-83868e52-1581-4b70-ac82-b5b70e17de32')\"\n",
              "              title=\"Convert this dataframe to an interactive table.\"\n",
              "              style=\"display:none;\">\n",
              "        \n",
              "  <svg xmlns=\"http://www.w3.org/2000/svg\" height=\"24px\"viewBox=\"0 0 24 24\"\n",
              "       width=\"24px\">\n",
              "    <path d=\"M0 0h24v24H0V0z\" fill=\"none\"/>\n",
              "    <path d=\"M18.56 5.44l.94 2.06.94-2.06 2.06-.94-2.06-.94-.94-2.06-.94 2.06-2.06.94zm-11 1L8.5 8.5l.94-2.06 2.06-.94-2.06-.94L8.5 2.5l-.94 2.06-2.06.94zm10 10l.94 2.06.94-2.06 2.06-.94-2.06-.94-.94-2.06-.94 2.06-2.06.94z\"/><path d=\"M17.41 7.96l-1.37-1.37c-.4-.4-.92-.59-1.43-.59-.52 0-1.04.2-1.43.59L10.3 9.45l-7.72 7.72c-.78.78-.78 2.05 0 2.83L4 21.41c.39.39.9.59 1.41.59.51 0 1.02-.2 1.41-.59l7.78-7.78 2.81-2.81c.8-.78.8-2.07 0-2.86zM5.41 20L4 18.59l7.72-7.72 1.47 1.35L5.41 20z\"/>\n",
              "  </svg>\n",
              "      </button>\n",
              "      \n",
              "  <style>\n",
              "    .colab-df-container {\n",
              "      display:flex;\n",
              "      flex-wrap:wrap;\n",
              "      gap: 12px;\n",
              "    }\n",
              "\n",
              "    .colab-df-convert {\n",
              "      background-color: #E8F0FE;\n",
              "      border: none;\n",
              "      border-radius: 50%;\n",
              "      cursor: pointer;\n",
              "      display: none;\n",
              "      fill: #1967D2;\n",
              "      height: 32px;\n",
              "      padding: 0 0 0 0;\n",
              "      width: 32px;\n",
              "    }\n",
              "\n",
              "    .colab-df-convert:hover {\n",
              "      background-color: #E2EBFA;\n",
              "      box-shadow: 0px 1px 2px rgba(60, 64, 67, 0.3), 0px 1px 3px 1px rgba(60, 64, 67, 0.15);\n",
              "      fill: #174EA6;\n",
              "    }\n",
              "\n",
              "    [theme=dark] .colab-df-convert {\n",
              "      background-color: #3B4455;\n",
              "      fill: #D2E3FC;\n",
              "    }\n",
              "\n",
              "    [theme=dark] .colab-df-convert:hover {\n",
              "      background-color: #434B5C;\n",
              "      box-shadow: 0px 1px 3px 1px rgba(0, 0, 0, 0.15);\n",
              "      filter: drop-shadow(0px 1px 2px rgba(0, 0, 0, 0.3));\n",
              "      fill: #FFFFFF;\n",
              "    }\n",
              "  </style>\n",
              "\n",
              "      <script>\n",
              "        const buttonEl =\n",
              "          document.querySelector('#df-83868e52-1581-4b70-ac82-b5b70e17de32 button.colab-df-convert');\n",
              "        buttonEl.style.display =\n",
              "          google.colab.kernel.accessAllowed ? 'block' : 'none';\n",
              "\n",
              "        async function convertToInteractive(key) {\n",
              "          const element = document.querySelector('#df-83868e52-1581-4b70-ac82-b5b70e17de32');\n",
              "          const dataTable =\n",
              "            await google.colab.kernel.invokeFunction('convertToInteractive',\n",
              "                                                     [key], {});\n",
              "          if (!dataTable) return;\n",
              "\n",
              "          const docLinkHtml = 'Like what you see? Visit the ' +\n",
              "            '<a target=\"_blank\" href=https://colab.research.google.com/notebooks/data_table.ipynb>data table notebook</a>'\n",
              "            + ' to learn more about interactive tables.';\n",
              "          element.innerHTML = '';\n",
              "          dataTable['output_type'] = 'display_data';\n",
              "          await google.colab.output.renderOutput(dataTable, element);\n",
              "          const docLink = document.createElement('div');\n",
              "          docLink.innerHTML = docLinkHtml;\n",
              "          element.appendChild(docLink);\n",
              "        }\n",
              "      </script>\n",
              "    </div>\n",
              "  </div>\n",
              "  "
            ]
          },
          "metadata": {},
          "execution_count": 41
        }
      ]
    },
    {
      "cell_type": "code",
      "source": [
        "#removing level\n",
        "X.columns = X.columns.droplevel()\n",
        "X.head(1)"
      ],
      "metadata": {
        "colab": {
          "base_uri": "https://localhost:8080/",
          "height": 112
        },
        "id": "IYFuijQUqJZM",
        "outputId": "6f94c93d-f265-42f4-fc6d-3cb4769daf0c"
      },
      "execution_count": null,
      "outputs": [
        {
          "output_type": "execute_result",
          "data": {
            "text/plain": [
              "                           AMZ         DIS     GOOG        META        NVS\n",
              "Date                                                                      \n",
              "2020-09-01 00:00:00-04:00  NaN  133.550003  83.0355  295.440002  80.162476"
            ],
            "text/html": [
              "\n",
              "  <div id=\"df-35adb583-ed87-4521-87f4-d1629114ba28\">\n",
              "    <div class=\"colab-df-container\">\n",
              "      <div>\n",
              "<style scoped>\n",
              "    .dataframe tbody tr th:only-of-type {\n",
              "        vertical-align: middle;\n",
              "    }\n",
              "\n",
              "    .dataframe tbody tr th {\n",
              "        vertical-align: top;\n",
              "    }\n",
              "\n",
              "    .dataframe thead th {\n",
              "        text-align: right;\n",
              "    }\n",
              "</style>\n",
              "<table border=\"1\" class=\"dataframe\">\n",
              "  <thead>\n",
              "    <tr style=\"text-align: right;\">\n",
              "      <th></th>\n",
              "      <th>AMZ</th>\n",
              "      <th>DIS</th>\n",
              "      <th>GOOG</th>\n",
              "      <th>META</th>\n",
              "      <th>NVS</th>\n",
              "    </tr>\n",
              "    <tr>\n",
              "      <th>Date</th>\n",
              "      <th></th>\n",
              "      <th></th>\n",
              "      <th></th>\n",
              "      <th></th>\n",
              "      <th></th>\n",
              "    </tr>\n",
              "  </thead>\n",
              "  <tbody>\n",
              "    <tr>\n",
              "      <th>2020-09-01 00:00:00-04:00</th>\n",
              "      <td>NaN</td>\n",
              "      <td>133.550003</td>\n",
              "      <td>83.0355</td>\n",
              "      <td>295.440002</td>\n",
              "      <td>80.162476</td>\n",
              "    </tr>\n",
              "  </tbody>\n",
              "</table>\n",
              "</div>\n",
              "      <button class=\"colab-df-convert\" onclick=\"convertToInteractive('df-35adb583-ed87-4521-87f4-d1629114ba28')\"\n",
              "              title=\"Convert this dataframe to an interactive table.\"\n",
              "              style=\"display:none;\">\n",
              "        \n",
              "  <svg xmlns=\"http://www.w3.org/2000/svg\" height=\"24px\"viewBox=\"0 0 24 24\"\n",
              "       width=\"24px\">\n",
              "    <path d=\"M0 0h24v24H0V0z\" fill=\"none\"/>\n",
              "    <path d=\"M18.56 5.44l.94 2.06.94-2.06 2.06-.94-2.06-.94-.94-2.06-.94 2.06-2.06.94zm-11 1L8.5 8.5l.94-2.06 2.06-.94-2.06-.94L8.5 2.5l-.94 2.06-2.06.94zm10 10l.94 2.06.94-2.06 2.06-.94-2.06-.94-.94-2.06-.94 2.06-2.06.94z\"/><path d=\"M17.41 7.96l-1.37-1.37c-.4-.4-.92-.59-1.43-.59-.52 0-1.04.2-1.43.59L10.3 9.45l-7.72 7.72c-.78.78-.78 2.05 0 2.83L4 21.41c.39.39.9.59 1.41.59.51 0 1.02-.2 1.41-.59l7.78-7.78 2.81-2.81c.8-.78.8-2.07 0-2.86zM5.41 20L4 18.59l7.72-7.72 1.47 1.35L5.41 20z\"/>\n",
              "  </svg>\n",
              "      </button>\n",
              "      \n",
              "  <style>\n",
              "    .colab-df-container {\n",
              "      display:flex;\n",
              "      flex-wrap:wrap;\n",
              "      gap: 12px;\n",
              "    }\n",
              "\n",
              "    .colab-df-convert {\n",
              "      background-color: #E8F0FE;\n",
              "      border: none;\n",
              "      border-radius: 50%;\n",
              "      cursor: pointer;\n",
              "      display: none;\n",
              "      fill: #1967D2;\n",
              "      height: 32px;\n",
              "      padding: 0 0 0 0;\n",
              "      width: 32px;\n",
              "    }\n",
              "\n",
              "    .colab-df-convert:hover {\n",
              "      background-color: #E2EBFA;\n",
              "      box-shadow: 0px 1px 2px rgba(60, 64, 67, 0.3), 0px 1px 3px 1px rgba(60, 64, 67, 0.15);\n",
              "      fill: #174EA6;\n",
              "    }\n",
              "\n",
              "    [theme=dark] .colab-df-convert {\n",
              "      background-color: #3B4455;\n",
              "      fill: #D2E3FC;\n",
              "    }\n",
              "\n",
              "    [theme=dark] .colab-df-convert:hover {\n",
              "      background-color: #434B5C;\n",
              "      box-shadow: 0px 1px 3px 1px rgba(0, 0, 0, 0.15);\n",
              "      filter: drop-shadow(0px 1px 2px rgba(0, 0, 0, 0.3));\n",
              "      fill: #FFFFFF;\n",
              "    }\n",
              "  </style>\n",
              "\n",
              "      <script>\n",
              "        const buttonEl =\n",
              "          document.querySelector('#df-35adb583-ed87-4521-87f4-d1629114ba28 button.colab-df-convert');\n",
              "        buttonEl.style.display =\n",
              "          google.colab.kernel.accessAllowed ? 'block' : 'none';\n",
              "\n",
              "        async function convertToInteractive(key) {\n",
              "          const element = document.querySelector('#df-35adb583-ed87-4521-87f4-d1629114ba28');\n",
              "          const dataTable =\n",
              "            await google.colab.kernel.invokeFunction('convertToInteractive',\n",
              "                                                     [key], {});\n",
              "          if (!dataTable) return;\n",
              "\n",
              "          const docLinkHtml = 'Like what you see? Visit the ' +\n",
              "            '<a target=\"_blank\" href=https://colab.research.google.com/notebooks/data_table.ipynb>data table notebook</a>'\n",
              "            + ' to learn more about interactive tables.';\n",
              "          element.innerHTML = '';\n",
              "          dataTable['output_type'] = 'display_data';\n",
              "          await google.colab.output.renderOutput(dataTable, element);\n",
              "          const docLink = document.createElement('div');\n",
              "          docLink.innerHTML = docLinkHtml;\n",
              "          element.appendChild(docLink);\n",
              "        }\n",
              "      </script>\n",
              "    </div>\n",
              "  </div>\n",
              "  "
            ]
          },
          "metadata": {},
          "execution_count": 28
        }
      ]
    },
    {
      "cell_type": "code",
      "source": [
        "#Time zones\n",
        "# had to search through discord chat to find the right answer\n",
        "X.index = X.index.tz_localize(None)\n",
        "y.index = y.index.tz_localize(None)"
      ],
      "metadata": {
        "id": "3gjQDh3cbJ6u"
      },
      "execution_count": null,
      "outputs": []
    },
    {
      "cell_type": "code",
      "source": [
        "#Combine everything\n",
        "df = pd.concat([y, X], axis = 1).dropna()\n",
        "df.head()"
      ],
      "metadata": {
        "colab": {
          "base_uri": "https://localhost:8080/",
          "height": 386
        },
        "id": "l6UHvObeqbxi",
        "outputId": "f4b51ab0-9132-4287-d71f-6e47b5ad1c66"
      },
      "execution_count": null,
      "outputs": [
        {
          "output_type": "execute_result",
          "data": {
            "text/plain": [
              "                       y  (Adj Close, CRSP)  (Adj Close, DIS)  \\\n",
              "Date                                                            \n",
              "2020-09-01  11970.478516          93.419998        133.550003   \n",
              "2020-09-02  11414.034180          93.930000        135.389999   \n",
              "2020-09-03  10245.296875          85.690002        133.240005   \n",
              "2020-09-04  10511.813477          82.019997        131.990005   \n",
              "2020-09-08  10131.516602          81.459999        134.199997   \n",
              "\n",
              "            (Adj Close, GOOG)  (Adj Close, META)  (Adj Close, NVS)  \n",
              "Date                                                                \n",
              "2020-09-01          83.035500         295.440002         80.162483  \n",
              "2020-09-02          86.414001         302.500000         81.998825  \n",
              "2020-09-03          82.092003         291.119995         80.374718  \n",
              "2020-09-04          79.552002         282.730011         79.987144  \n",
              "2020-09-08          76.619499         271.160004         80.586967  "
            ],
            "text/html": [
              "\n",
              "  <div id=\"df-20fbf6cc-11fb-404f-a5f4-7b8c98c4b235\">\n",
              "    <div class=\"colab-df-container\">\n",
              "      <div>\n",
              "<style scoped>\n",
              "    .dataframe tbody tr th:only-of-type {\n",
              "        vertical-align: middle;\n",
              "    }\n",
              "\n",
              "    .dataframe tbody tr th {\n",
              "        vertical-align: top;\n",
              "    }\n",
              "\n",
              "    .dataframe thead th {\n",
              "        text-align: right;\n",
              "    }\n",
              "</style>\n",
              "<table border=\"1\" class=\"dataframe\">\n",
              "  <thead>\n",
              "    <tr style=\"text-align: right;\">\n",
              "      <th></th>\n",
              "      <th>y</th>\n",
              "      <th>(Adj Close, CRSP)</th>\n",
              "      <th>(Adj Close, DIS)</th>\n",
              "      <th>(Adj Close, GOOG)</th>\n",
              "      <th>(Adj Close, META)</th>\n",
              "      <th>(Adj Close, NVS)</th>\n",
              "    </tr>\n",
              "    <tr>\n",
              "      <th>Date</th>\n",
              "      <th></th>\n",
              "      <th></th>\n",
              "      <th></th>\n",
              "      <th></th>\n",
              "      <th></th>\n",
              "      <th></th>\n",
              "    </tr>\n",
              "  </thead>\n",
              "  <tbody>\n",
              "    <tr>\n",
              "      <th>2020-09-01</th>\n",
              "      <td>11970.478516</td>\n",
              "      <td>93.419998</td>\n",
              "      <td>133.550003</td>\n",
              "      <td>83.035500</td>\n",
              "      <td>295.440002</td>\n",
              "      <td>80.162483</td>\n",
              "    </tr>\n",
              "    <tr>\n",
              "      <th>2020-09-02</th>\n",
              "      <td>11414.034180</td>\n",
              "      <td>93.930000</td>\n",
              "      <td>135.389999</td>\n",
              "      <td>86.414001</td>\n",
              "      <td>302.500000</td>\n",
              "      <td>81.998825</td>\n",
              "    </tr>\n",
              "    <tr>\n",
              "      <th>2020-09-03</th>\n",
              "      <td>10245.296875</td>\n",
              "      <td>85.690002</td>\n",
              "      <td>133.240005</td>\n",
              "      <td>82.092003</td>\n",
              "      <td>291.119995</td>\n",
              "      <td>80.374718</td>\n",
              "    </tr>\n",
              "    <tr>\n",
              "      <th>2020-09-04</th>\n",
              "      <td>10511.813477</td>\n",
              "      <td>82.019997</td>\n",
              "      <td>131.990005</td>\n",
              "      <td>79.552002</td>\n",
              "      <td>282.730011</td>\n",
              "      <td>79.987144</td>\n",
              "    </tr>\n",
              "    <tr>\n",
              "      <th>2020-09-08</th>\n",
              "      <td>10131.516602</td>\n",
              "      <td>81.459999</td>\n",
              "      <td>134.199997</td>\n",
              "      <td>76.619499</td>\n",
              "      <td>271.160004</td>\n",
              "      <td>80.586967</td>\n",
              "    </tr>\n",
              "  </tbody>\n",
              "</table>\n",
              "</div>\n",
              "      <button class=\"colab-df-convert\" onclick=\"convertToInteractive('df-20fbf6cc-11fb-404f-a5f4-7b8c98c4b235')\"\n",
              "              title=\"Convert this dataframe to an interactive table.\"\n",
              "              style=\"display:none;\">\n",
              "        \n",
              "  <svg xmlns=\"http://www.w3.org/2000/svg\" height=\"24px\"viewBox=\"0 0 24 24\"\n",
              "       width=\"24px\">\n",
              "    <path d=\"M0 0h24v24H0V0z\" fill=\"none\"/>\n",
              "    <path d=\"M18.56 5.44l.94 2.06.94-2.06 2.06-.94-2.06-.94-.94-2.06-.94 2.06-2.06.94zm-11 1L8.5 8.5l.94-2.06 2.06-.94-2.06-.94L8.5 2.5l-.94 2.06-2.06.94zm10 10l.94 2.06.94-2.06 2.06-.94-2.06-.94-.94-2.06-.94 2.06-2.06.94z\"/><path d=\"M17.41 7.96l-1.37-1.37c-.4-.4-.92-.59-1.43-.59-.52 0-1.04.2-1.43.59L10.3 9.45l-7.72 7.72c-.78.78-.78 2.05 0 2.83L4 21.41c.39.39.9.59 1.41.59.51 0 1.02-.2 1.41-.59l7.78-7.78 2.81-2.81c.8-.78.8-2.07 0-2.86zM5.41 20L4 18.59l7.72-7.72 1.47 1.35L5.41 20z\"/>\n",
              "  </svg>\n",
              "      </button>\n",
              "      \n",
              "  <style>\n",
              "    .colab-df-container {\n",
              "      display:flex;\n",
              "      flex-wrap:wrap;\n",
              "      gap: 12px;\n",
              "    }\n",
              "\n",
              "    .colab-df-convert {\n",
              "      background-color: #E8F0FE;\n",
              "      border: none;\n",
              "      border-radius: 50%;\n",
              "      cursor: pointer;\n",
              "      display: none;\n",
              "      fill: #1967D2;\n",
              "      height: 32px;\n",
              "      padding: 0 0 0 0;\n",
              "      width: 32px;\n",
              "    }\n",
              "\n",
              "    .colab-df-convert:hover {\n",
              "      background-color: #E2EBFA;\n",
              "      box-shadow: 0px 1px 2px rgba(60, 64, 67, 0.3), 0px 1px 3px 1px rgba(60, 64, 67, 0.15);\n",
              "      fill: #174EA6;\n",
              "    }\n",
              "\n",
              "    [theme=dark] .colab-df-convert {\n",
              "      background-color: #3B4455;\n",
              "      fill: #D2E3FC;\n",
              "    }\n",
              "\n",
              "    [theme=dark] .colab-df-convert:hover {\n",
              "      background-color: #434B5C;\n",
              "      box-shadow: 0px 1px 3px 1px rgba(0, 0, 0, 0.15);\n",
              "      filter: drop-shadow(0px 1px 2px rgba(0, 0, 0, 0.3));\n",
              "      fill: #FFFFFF;\n",
              "    }\n",
              "  </style>\n",
              "\n",
              "      <script>\n",
              "        const buttonEl =\n",
              "          document.querySelector('#df-20fbf6cc-11fb-404f-a5f4-7b8c98c4b235 button.colab-df-convert');\n",
              "        buttonEl.style.display =\n",
              "          google.colab.kernel.accessAllowed ? 'block' : 'none';\n",
              "\n",
              "        async function convertToInteractive(key) {\n",
              "          const element = document.querySelector('#df-20fbf6cc-11fb-404f-a5f4-7b8c98c4b235');\n",
              "          const dataTable =\n",
              "            await google.colab.kernel.invokeFunction('convertToInteractive',\n",
              "                                                     [key], {});\n",
              "          if (!dataTable) return;\n",
              "\n",
              "          const docLinkHtml = 'Like what you see? Visit the ' +\n",
              "            '<a target=\"_blank\" href=https://colab.research.google.com/notebooks/data_table.ipynb>data table notebook</a>'\n",
              "            + ' to learn more about interactive tables.';\n",
              "          element.innerHTML = '';\n",
              "          dataTable['output_type'] = 'display_data';\n",
              "          await google.colab.output.renderOutput(dataTable, element);\n",
              "          const docLink = document.createElement('div');\n",
              "          docLink.innerHTML = docLinkHtml;\n",
              "          element.appendChild(docLink);\n",
              "        }\n",
              "      </script>\n",
              "    </div>\n",
              "  </div>\n",
              "  "
            ]
          },
          "metadata": {},
          "execution_count": 43
        }
      ]
    },
    {
      "cell_type": "markdown",
      "source": [
        "# DATA Analysis section"
      ],
      "metadata": {
        "id": "qO_tH2YW6R-Z"
      }
    },
    {
      "cell_type": "code",
      "source": [
        "#prepare a dataframe with only training data\n",
        "df_training = df[df.index <= training_end]\n",
        "df_training.tail(1)"
      ],
      "metadata": {
        "colab": {
          "base_uri": "https://localhost:8080/",
          "height": 191
        },
        "id": "5pU93ue36YkF",
        "outputId": "9f975c61-e45f-47d9-e168-6d412c9c3f4e"
      },
      "execution_count": null,
      "outputs": [
        {
          "output_type": "execute_result",
          "data": {
            "text/plain": [
              "                       y  (Adj Close, CRSP)  (Adj Close, DIS)  \\\n",
              "Date                                                            \n",
              "2020-10-19  11742.037109         107.720001        124.230003   \n",
              "\n",
              "            (Adj Close, GOOG)  (Adj Close, META)  (Adj Close, NVS)  \n",
              "Date                                                                \n",
              "2020-10-19          76.730499         261.399994         79.165871  "
            ],
            "text/html": [
              "\n",
              "  <div id=\"df-10fa79fd-93df-4e4f-ab51-145f1ae39b2b\">\n",
              "    <div class=\"colab-df-container\">\n",
              "      <div>\n",
              "<style scoped>\n",
              "    .dataframe tbody tr th:only-of-type {\n",
              "        vertical-align: middle;\n",
              "    }\n",
              "\n",
              "    .dataframe tbody tr th {\n",
              "        vertical-align: top;\n",
              "    }\n",
              "\n",
              "    .dataframe thead th {\n",
              "        text-align: right;\n",
              "    }\n",
              "</style>\n",
              "<table border=\"1\" class=\"dataframe\">\n",
              "  <thead>\n",
              "    <tr style=\"text-align: right;\">\n",
              "      <th></th>\n",
              "      <th>y</th>\n",
              "      <th>(Adj Close, CRSP)</th>\n",
              "      <th>(Adj Close, DIS)</th>\n",
              "      <th>(Adj Close, GOOG)</th>\n",
              "      <th>(Adj Close, META)</th>\n",
              "      <th>(Adj Close, NVS)</th>\n",
              "    </tr>\n",
              "    <tr>\n",
              "      <th>Date</th>\n",
              "      <th></th>\n",
              "      <th></th>\n",
              "      <th></th>\n",
              "      <th></th>\n",
              "      <th></th>\n",
              "      <th></th>\n",
              "    </tr>\n",
              "  </thead>\n",
              "  <tbody>\n",
              "    <tr>\n",
              "      <th>2020-10-19</th>\n",
              "      <td>11742.037109</td>\n",
              "      <td>107.720001</td>\n",
              "      <td>124.230003</td>\n",
              "      <td>76.730499</td>\n",
              "      <td>261.399994</td>\n",
              "      <td>79.165871</td>\n",
              "    </tr>\n",
              "  </tbody>\n",
              "</table>\n",
              "</div>\n",
              "      <button class=\"colab-df-convert\" onclick=\"convertToInteractive('df-10fa79fd-93df-4e4f-ab51-145f1ae39b2b')\"\n",
              "              title=\"Convert this dataframe to an interactive table.\"\n",
              "              style=\"display:none;\">\n",
              "        \n",
              "  <svg xmlns=\"http://www.w3.org/2000/svg\" height=\"24px\"viewBox=\"0 0 24 24\"\n",
              "       width=\"24px\">\n",
              "    <path d=\"M0 0h24v24H0V0z\" fill=\"none\"/>\n",
              "    <path d=\"M18.56 5.44l.94 2.06.94-2.06 2.06-.94-2.06-.94-.94-2.06-.94 2.06-2.06.94zm-11 1L8.5 8.5l.94-2.06 2.06-.94-2.06-.94L8.5 2.5l-.94 2.06-2.06.94zm10 10l.94 2.06.94-2.06 2.06-.94-2.06-.94-.94-2.06-.94 2.06-2.06.94z\"/><path d=\"M17.41 7.96l-1.37-1.37c-.4-.4-.92-.59-1.43-.59-.52 0-1.04.2-1.43.59L10.3 9.45l-7.72 7.72c-.78.78-.78 2.05 0 2.83L4 21.41c.39.39.9.59 1.41.59.51 0 1.02-.2 1.41-.59l7.78-7.78 2.81-2.81c.8-.78.8-2.07 0-2.86zM5.41 20L4 18.59l7.72-7.72 1.47 1.35L5.41 20z\"/>\n",
              "  </svg>\n",
              "      </button>\n",
              "      \n",
              "  <style>\n",
              "    .colab-df-container {\n",
              "      display:flex;\n",
              "      flex-wrap:wrap;\n",
              "      gap: 12px;\n",
              "    }\n",
              "\n",
              "    .colab-df-convert {\n",
              "      background-color: #E8F0FE;\n",
              "      border: none;\n",
              "      border-radius: 50%;\n",
              "      cursor: pointer;\n",
              "      display: none;\n",
              "      fill: #1967D2;\n",
              "      height: 32px;\n",
              "      padding: 0 0 0 0;\n",
              "      width: 32px;\n",
              "    }\n",
              "\n",
              "    .colab-df-convert:hover {\n",
              "      background-color: #E2EBFA;\n",
              "      box-shadow: 0px 1px 2px rgba(60, 64, 67, 0.3), 0px 1px 3px 1px rgba(60, 64, 67, 0.15);\n",
              "      fill: #174EA6;\n",
              "    }\n",
              "\n",
              "    [theme=dark] .colab-df-convert {\n",
              "      background-color: #3B4455;\n",
              "      fill: #D2E3FC;\n",
              "    }\n",
              "\n",
              "    [theme=dark] .colab-df-convert:hover {\n",
              "      background-color: #434B5C;\n",
              "      box-shadow: 0px 1px 3px 1px rgba(0, 0, 0, 0.15);\n",
              "      filter: drop-shadow(0px 1px 2px rgba(0, 0, 0, 0.3));\n",
              "      fill: #FFFFFF;\n",
              "    }\n",
              "  </style>\n",
              "\n",
              "      <script>\n",
              "        const buttonEl =\n",
              "          document.querySelector('#df-10fa79fd-93df-4e4f-ab51-145f1ae39b2b button.colab-df-convert');\n",
              "        buttonEl.style.display =\n",
              "          google.colab.kernel.accessAllowed ? 'block' : 'none';\n",
              "\n",
              "        async function convertToInteractive(key) {\n",
              "          const element = document.querySelector('#df-10fa79fd-93df-4e4f-ab51-145f1ae39b2b');\n",
              "          const dataTable =\n",
              "            await google.colab.kernel.invokeFunction('convertToInteractive',\n",
              "                                                     [key], {});\n",
              "          if (!dataTable) return;\n",
              "\n",
              "          const docLinkHtml = 'Like what you see? Visit the ' +\n",
              "            '<a target=\"_blank\" href=https://colab.research.google.com/notebooks/data_table.ipynb>data table notebook</a>'\n",
              "            + ' to learn more about interactive tables.';\n",
              "          element.innerHTML = '';\n",
              "          dataTable['output_type'] = 'display_data';\n",
              "          await google.colab.output.renderOutput(dataTable, element);\n",
              "          const docLink = document.createElement('div');\n",
              "          docLink.innerHTML = docLinkHtml;\n",
              "          element.appendChild(docLink);\n",
              "        }\n",
              "      </script>\n",
              "    </div>\n",
              "  </div>\n",
              "  "
            ]
          },
          "metadata": {},
          "execution_count": 44
        }
      ]
    },
    {
      "cell_type": "code",
      "source": [
        "#stationarity \n",
        "from statsmodels.tsa.stattools import adfuller\n",
        "test = adfuller(x = df_training.y)[1]\n",
        "\n",
        "#how to read if else\n",
        "if test < 0.05:\n",
        "  print(\"The time series is stationary\")\n",
        "else:\n",
        "  print(\"The time series is not stationary\")"
      ],
      "metadata": {
        "colab": {
          "base_uri": "https://localhost:8080/"
        },
        "id": "jovrY4v48BSu",
        "outputId": "f1266e99-b574-41c5-db90-19b2dd5e19e0"
      },
      "execution_count": null,
      "outputs": [
        {
          "output_type": "stream",
          "name": "stdout",
          "text": [
            "The time series is not stationary\n"
          ]
        }
      ]
    },
    {
      "cell_type": "code",
      "source": [
        "#Differencing: subtract or divide\n",
        "differencing = df_training.pct_change().dropna()\n",
        "differencing.head(2)"
      ],
      "metadata": {
        "colab": {
          "base_uri": "https://localhost:8080/",
          "height": 240
        },
        "id": "DFXmVy5i8lYj",
        "outputId": "8e83ceb6-ea98-458c-9893-258df5a4103c"
      },
      "execution_count": null,
      "outputs": [
        {
          "output_type": "execute_result",
          "data": {
            "text/plain": [
              "                   y  (Adj Close, CRSP)  (Adj Close, DIS)  (Adj Close, GOOG)  \\\n",
              "Date                                                                           \n",
              "2020-09-02 -0.046485           0.005459          0.013778           0.040687   \n",
              "2020-09-03 -0.102395          -0.087725         -0.015880          -0.050015   \n",
              "\n",
              "            (Adj Close, META)  (Adj Close, NVS)  \n",
              "Date                                             \n",
              "2020-09-02           0.023897          0.022908  \n",
              "2020-09-03          -0.037620         -0.019806  "
            ],
            "text/html": [
              "\n",
              "  <div id=\"df-c19eda70-03b6-49e8-9667-cb36353ab163\">\n",
              "    <div class=\"colab-df-container\">\n",
              "      <div>\n",
              "<style scoped>\n",
              "    .dataframe tbody tr th:only-of-type {\n",
              "        vertical-align: middle;\n",
              "    }\n",
              "\n",
              "    .dataframe tbody tr th {\n",
              "        vertical-align: top;\n",
              "    }\n",
              "\n",
              "    .dataframe thead th {\n",
              "        text-align: right;\n",
              "    }\n",
              "</style>\n",
              "<table border=\"1\" class=\"dataframe\">\n",
              "  <thead>\n",
              "    <tr style=\"text-align: right;\">\n",
              "      <th></th>\n",
              "      <th>y</th>\n",
              "      <th>(Adj Close, CRSP)</th>\n",
              "      <th>(Adj Close, DIS)</th>\n",
              "      <th>(Adj Close, GOOG)</th>\n",
              "      <th>(Adj Close, META)</th>\n",
              "      <th>(Adj Close, NVS)</th>\n",
              "    </tr>\n",
              "    <tr>\n",
              "      <th>Date</th>\n",
              "      <th></th>\n",
              "      <th></th>\n",
              "      <th></th>\n",
              "      <th></th>\n",
              "      <th></th>\n",
              "      <th></th>\n",
              "    </tr>\n",
              "  </thead>\n",
              "  <tbody>\n",
              "    <tr>\n",
              "      <th>2020-09-02</th>\n",
              "      <td>-0.046485</td>\n",
              "      <td>0.005459</td>\n",
              "      <td>0.013778</td>\n",
              "      <td>0.040687</td>\n",
              "      <td>0.023897</td>\n",
              "      <td>0.022908</td>\n",
              "    </tr>\n",
              "    <tr>\n",
              "      <th>2020-09-03</th>\n",
              "      <td>-0.102395</td>\n",
              "      <td>-0.087725</td>\n",
              "      <td>-0.015880</td>\n",
              "      <td>-0.050015</td>\n",
              "      <td>-0.037620</td>\n",
              "      <td>-0.019806</td>\n",
              "    </tr>\n",
              "  </tbody>\n",
              "</table>\n",
              "</div>\n",
              "      <button class=\"colab-df-convert\" onclick=\"convertToInteractive('df-c19eda70-03b6-49e8-9667-cb36353ab163')\"\n",
              "              title=\"Convert this dataframe to an interactive table.\"\n",
              "              style=\"display:none;\">\n",
              "        \n",
              "  <svg xmlns=\"http://www.w3.org/2000/svg\" height=\"24px\"viewBox=\"0 0 24 24\"\n",
              "       width=\"24px\">\n",
              "    <path d=\"M0 0h24v24H0V0z\" fill=\"none\"/>\n",
              "    <path d=\"M18.56 5.44l.94 2.06.94-2.06 2.06-.94-2.06-.94-.94-2.06-.94 2.06-2.06.94zm-11 1L8.5 8.5l.94-2.06 2.06-.94-2.06-.94L8.5 2.5l-.94 2.06-2.06.94zm10 10l.94 2.06.94-2.06 2.06-.94-2.06-.94-.94-2.06-.94 2.06-2.06.94z\"/><path d=\"M17.41 7.96l-1.37-1.37c-.4-.4-.92-.59-1.43-.59-.52 0-1.04.2-1.43.59L10.3 9.45l-7.72 7.72c-.78.78-.78 2.05 0 2.83L4 21.41c.39.39.9.59 1.41.59.51 0 1.02-.2 1.41-.59l7.78-7.78 2.81-2.81c.8-.78.8-2.07 0-2.86zM5.41 20L4 18.59l7.72-7.72 1.47 1.35L5.41 20z\"/>\n",
              "  </svg>\n",
              "      </button>\n",
              "      \n",
              "  <style>\n",
              "    .colab-df-container {\n",
              "      display:flex;\n",
              "      flex-wrap:wrap;\n",
              "      gap: 12px;\n",
              "    }\n",
              "\n",
              "    .colab-df-convert {\n",
              "      background-color: #E8F0FE;\n",
              "      border: none;\n",
              "      border-radius: 50%;\n",
              "      cursor: pointer;\n",
              "      display: none;\n",
              "      fill: #1967D2;\n",
              "      height: 32px;\n",
              "      padding: 0 0 0 0;\n",
              "      width: 32px;\n",
              "    }\n",
              "\n",
              "    .colab-df-convert:hover {\n",
              "      background-color: #E2EBFA;\n",
              "      box-shadow: 0px 1px 2px rgba(60, 64, 67, 0.3), 0px 1px 3px 1px rgba(60, 64, 67, 0.15);\n",
              "      fill: #174EA6;\n",
              "    }\n",
              "\n",
              "    [theme=dark] .colab-df-convert {\n",
              "      background-color: #3B4455;\n",
              "      fill: #D2E3FC;\n",
              "    }\n",
              "\n",
              "    [theme=dark] .colab-df-convert:hover {\n",
              "      background-color: #434B5C;\n",
              "      box-shadow: 0px 1px 3px 1px rgba(0, 0, 0, 0.15);\n",
              "      filter: drop-shadow(0px 1px 2px rgba(0, 0, 0, 0.3));\n",
              "      fill: #FFFFFF;\n",
              "    }\n",
              "  </style>\n",
              "\n",
              "      <script>\n",
              "        const buttonEl =\n",
              "          document.querySelector('#df-c19eda70-03b6-49e8-9667-cb36353ab163 button.colab-df-convert');\n",
              "        buttonEl.style.display =\n",
              "          google.colab.kernel.accessAllowed ? 'block' : 'none';\n",
              "\n",
              "        async function convertToInteractive(key) {\n",
              "          const element = document.querySelector('#df-c19eda70-03b6-49e8-9667-cb36353ab163');\n",
              "          const dataTable =\n",
              "            await google.colab.kernel.invokeFunction('convertToInteractive',\n",
              "                                                     [key], {});\n",
              "          if (!dataTable) return;\n",
              "\n",
              "          const docLinkHtml = 'Like what you see? Visit the ' +\n",
              "            '<a target=\"_blank\" href=https://colab.research.google.com/notebooks/data_table.ipynb>data table notebook</a>'\n",
              "            + ' to learn more about interactive tables.';\n",
              "          element.innerHTML = '';\n",
              "          dataTable['output_type'] = 'display_data';\n",
              "          await google.colab.output.renderOutput(dataTable, element);\n",
              "          const docLink = document.createElement('div');\n",
              "          docLink.innerHTML = docLinkHtml;\n",
              "          element.appendChild(docLink);\n",
              "        }\n",
              "      </script>\n",
              "    </div>\n",
              "  </div>\n",
              "  "
            ]
          },
          "metadata": {},
          "execution_count": 48
        }
      ]
    },
    {
      "cell_type": "code",
      "source": [
        "test = adfuller(x = differencing.y)[1]\n",
        "\n",
        "#how to read if else\n",
        "if test < 0.05:\n",
        "  print(\"The time series is stationary\")\n",
        "else:\n",
        "  print(\"The time series is not stationary\")"
      ],
      "metadata": {
        "colab": {
          "base_uri": "https://localhost:8080/"
        },
        "id": "o_y-gsnS8-5q",
        "outputId": "8db840ee-22cf-4899-ded1-fa6f748a4edc"
      },
      "execution_count": null,
      "outputs": [
        {
          "output_type": "stream",
          "name": "stdout",
          "text": [
            "The time series is stationary\n"
          ]
        }
      ]
    },
    {
      "cell_type": "code",
      "source": [
        "#correlation martix\n",
        "plt.figure(figsize = (8,6))\n",
        "sns.heatmap(differencing.corr(),\n",
        "            annot =True,\n",
        "            fmt='.1g',\n",
        "            cmap =\"Blues\",\n",
        "            center = True,\n",
        "            linewidth = 1)"
      ],
      "metadata": {
        "colab": {
          "base_uri": "https://localhost:8080/",
          "height": 489
        },
        "id": "PRq-dC0R9VYd",
        "outputId": "781c42c8-2b81-4879-be6e-c37a724671f9"
      },
      "execution_count": null,
      "outputs": [
        {
          "output_type": "execute_result",
          "data": {
            "text/plain": [
              "<matplotlib.axes._subplots.AxesSubplot at 0x7fd7caeabaf0>"
            ]
          },
          "metadata": {},
          "execution_count": 55
        },
        {
          "output_type": "display_data",
          "data": {
            "text/plain": [
              "<Figure size 576x432 with 2 Axes>"
            ],
            "image/png": "[encoded data removed]"
          },
          "metadata": {
            "needs_background": "light"
          }
        }
      ]
    },
    {
      "cell_type": "markdown",
      "source": [
        "# Causal Impact "
      ],
      "metadata": {
        "id": "9jchl3us-nCd"
      }
    },
    {
      "cell_type": "code",
      "source": [
        "#pre and post period \n",
        "pre_period = [training_start, training_end]\n",
        "post_period = [treatment_start, treatment_end]"
      ],
      "metadata": {
        "id": "p0aauCQG-qgU"
      },
      "execution_count": null,
      "outputs": []
    },
    {
      "cell_type": "code",
      "source": [
        "#google causal impact\n",
        "impact = CausalImpact(data = df,\n",
        "                      pre_period = pre_period,\n",
        "                      post_period = post_period)\n",
        "impact.plot()"
      ],
      "metadata": {
        "colab": {
          "base_uri": "https://localhost:8080/",
          "height": 680
        },
        "id": "mkGZpqwh_Ovz",
        "outputId": "43f1b3db-8733-4348-b316-a9bf3724134a"
      },
      "execution_count": null,
      "outputs": [
        {
          "output_type": "stream",
          "name": "stderr",
          "text": [
            "WARNING:tensorflow:From /usr/local/lib/python3.8/dist-packages/tensorflow_probability/python/internal/batched_rejection_sampler.py:102: calling while_loop_v2 (from tensorflow.python.ops.control_flow_ops) with back_prop=False is deprecated and will be removed in a future version.\n",
            "Instructions for updating:\n",
            "back_prop=False is deprecated. Consider using tf.stop_gradient instead.\n",
            "Instead of:\n",
            "results = tf.while_loop(c, b, vars, back_prop=False)\n",
            "Use:\n",
            "results = tf.nest.map_structure(tf.stop_gradient, tf.while_loop(c, b, vars))\n",
            "WARNING:tensorflow:From /usr/local/lib/python3.8/dist-packages/tensorflow/python/autograph/impl/api.py:458: StructuralTimeSeries.joint_log_prob (from tensorflow_probability.python.sts.structural_time_series) is deprecated and will be removed after 2022-03-01.\n",
            "Instructions for updating:\n",
            "Please use `StructuralTimeSeries.joint_distribution(observed_time_series).log_prob`\n",
            "WARNING:tensorflow:From /usr/local/lib/python3.8/dist-packages/causalimpact/model.py:408: calling one_step_predictive (from tensorflow_probability.python.sts.forecast) with timesteps_are_event_shape=True is deprecated and will be removed after 2021-12-31.\n",
            "Instructions for updating:\n",
            "`Predictive distributions returned by`tfp.sts.one_step_predictive` will soon compute per-timestep probabilities (treating timesteps as part of the batch shape) instead of a single probability for an entire series (the current approach, in which timesteps are treated as event shape). Please update your code to pass `timesteps_are_event_shape=False` (this will soon be the default) and to explicitly sum over the per-timestep log probabilities if this is required.\n"
          ]
        },
        {
          "output_type": "display_data",
          "data": {
            "text/plain": [
              "<Figure size 720x504 with 3 Axes>"
            ],
            "image/png": "[encoded data removed]"
          },
          "metadata": {
            "needs_background": "light"
          }
        }
      ]
    },
    {
      "cell_type": "code",
      "source": [
        "#summary\n",
        "print(impact.summary())"
      ],
      "metadata": {
        "colab": {
          "base_uri": "https://localhost:8080/"
        },
        "id": "shihsnuDASWm",
        "outputId": "752a0a4c-0c60-44e8-b6d0-76a211136742"
      },
      "execution_count": null,
      "outputs": [
        {
          "output_type": "stream",
          "name": "stdout",
          "text": [
            "Posterior Inference {Causal Impact}\n",
            "                          Average            Cumulative\n",
            "Actual                    12659.36           50637.45\n",
            "Prediction (s.d.)         11234.16 (233.89)  44936.64 (935.55)\n",
            "95% CI                    [10785.88, 11702.7][43143.51, 46810.81]\n",
            "\n",
            "Absolute effect (s.d.)    1425.2 (233.89)    5700.81 (935.55)\n",
            "95% CI                    [956.66, 1873.49]  [3826.64, 7493.94]\n",
            "\n",
            "Relative effect (s.d.)    12.69% (2.08%)     12.69% (2.08%)\n",
            "95% CI                    [8.52%, 16.68%]    [8.52%, 16.68%]\n",
            "\n",
            "Posterior tail-area probability p: 0.0\n",
            "Posterior prob. of a causal effect: 100.0%\n",
            "\n",
            "For more details run the command: print(impact.summary('report'))\n"
          ]
        }
      ]
    },
    {
      "cell_type": "code",
      "source": [
        "#summary report \n",
        "print(impact.summary('report'))"
      ],
      "metadata": {
        "id": "02XE231oApJ8",
        "outputId": "d1966704-b87d-4bd3-e825-91ea0853cd65",
        "colab": {
          "base_uri": "https://localhost:8080/"
        }
      },
      "execution_count": null,
      "outputs": [
        {
          "output_type": "stream",
          "name": "stdout",
          "text": [
            "Analysis report {CausalImpact}\n",
            "\n",
            "\n",
            "During the post-intervention period, the response variable had\n",
            "an average value of approx. 12659.36. By contrast, in the absence of an\n",
            "intervention, we would have expected an average response of 11234.16.\n",
            "The 95% interval of this counterfactual prediction is [10785.88, 11702.7].\n",
            "Subtracting this prediction from the observed response yields\n",
            "an estimate of the causal effect the intervention had on the\n",
            "response variable. This effect is 1425.2 with a 95% interval of\n",
            "[956.66, 1873.49]. For a discussion of the significance of this effect,\n",
            "see below.\n",
            "\n",
            "\n",
            "Summing up the individual data points during the post-intervention\n",
            "period (which can only sometimes be meaningfully interpreted), the\n",
            "response variable had an overall value of 50637.45.\n",
            "By contrast, had the intervention not taken place, we would have expected\n",
            "a sum of 44936.64. The 95% interval of this prediction is [43143.51, 46810.81].\n",
            "\n",
            "\n",
            "The above results are given in terms of absolute numbers. In relative\n",
            "terms, the response variable showed an increase of +12.69%. The 95%\n",
            "interval of this percentage is [8.52%, 16.68%].\n",
            "\n",
            "\n",
            "This means that the positive effect observed during the intervention\n",
            "period is statistically significant and unlikely to be due to random\n",
            "fluctuations. It should be noted, however, that the question of whether\n",
            "this increase also bears substantive significance can only be answered\n",
            "by comparing the absolute effect (1425.2) to the original goal\n",
            "of the underlying intervention.\n",
            "\n",
            "\n",
            "The probability of obtaining this effect by chance is very small\n",
            "(Bayesian one-sided tail-area probability p = 0.0).\n",
            "This means the causal effect can be considered statistically\n",
            "significant.\n"
          ]
        }
      ]
    }
  ]
}